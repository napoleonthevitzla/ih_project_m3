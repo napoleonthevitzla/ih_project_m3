{
 "cells": [
  {
   "cell_type": "code",
   "execution_count": 1,
   "metadata": {},
   "outputs": [],
   "source": [
    "# imports\n",
    "\n",
    "import sqlalchemy\n",
    "import pandas as pd\n",
    "import sqlite3 as sql\n",
    "import matplotlib.pyplot as plt\n",
    "\n",
    "from sklearn import datasets\n",
    "from sklearn.datasets import make_regression\n",
    "from sklearn.model_selection import train_test_split\n",
    "\n",
    "from sklearn import linear_model\n",
    "from sklearn.linear_model import ElasticNet\n",
    "from sklearn.linear_model import Ridge\n",
    "from sklearn.svm import SVR\n",
    "from sklearn.linear_model import SGDRegressor\n",
    "from sklearn.linear_model import LinearRegression\n",
    "from sklearn.preprocessing import StandardScaler\n",
    "from sklearn.metrics import mean_squared_error\n",
    "from sklearn.metrics import r2_score\n",
    "\n",
    "from sklearn.preprocessing import RobustScaler\n",
    "\n",
    "import pickle\n",
    "from sklearn import preprocessing\n",
    "from sklearn.ensemble import RandomForestRegressor\n"
   ]
  },
  {
   "cell_type": "code",
   "execution_count": 2,
   "metadata": {},
   "outputs": [],
   "source": [
    "#Exportamos datasets(elegir esta opción )\n",
    "\n",
    "diamonds_train = pd.read_csv('./data/diamondssql.csv')\n",
    "diamonds_test = pd.read_csv('./data/diamonds_test.csv')"
   ]
  },
  {
   "cell_type": "code",
   "execution_count": 3,
   "metadata": {},
   "outputs": [],
   "source": [
    "#Quitamos la columna city del dataset: \n",
    "diamonds_train = diamonds_train.drop(['city'], axis=1)"
   ]
  },
  {
   "cell_type": "code",
   "execution_count": 4,
   "metadata": {},
   "outputs": [],
   "source": [
    "## A continuación vamos a cambiar los datos de tipo de color en valores numericos con la función encoder:\n",
    "from sklearn.preprocessing import OrdinalEncoder\n",
    "# Creamos el codificador indicandole el orden de la variables\n",
    "encoder = OrdinalEncoder(categories=[['J', 'I', 'H', 'G', 'F', 'E', 'D']])\n",
    "# Ajustamos el codificador con la variable education y la transformamos\n",
    "encoder.fit(diamonds_train[[\"color\"]])\n",
    "diamonds_train[\"color-encoded\"] = encoder.transform(diamonds_train[[\"color\"]])\n",
    "diamonds_train.drop(\"color\", axis = 1 , inplace = True)\n",
    "\n",
    "# Ajustamos el codificador con la variable education y la transformamos\n",
    "encoder.fit(diamonds_test[[\"color\"]])\n",
    "diamonds_test[\"color-encoded\"] = encoder.transform(diamonds_test[[\"color\"]])\n",
    "diamonds_test.drop(\"color\", axis = 1 , inplace = True)"
   ]
  },
  {
   "cell_type": "code",
   "execution_count": 5,
   "metadata": {},
   "outputs": [],
   "source": [
    "# Creamos el codificador indicandole el orden de la variables de CUT\n",
    "encoder = OrdinalEncoder(categories=[['Premium', 'Very Good', 'Fair', 'Good', 'Ideal']])\n",
    "# Ajustamos el codificador con la variable education y la transformamos\n",
    "encoder.fit(diamonds_train[[\"cut\"]])\n",
    "diamonds_train[\"cut-encoded\"] = encoder.transform(diamonds_train[[\"cut\"]])\n",
    "diamonds_train.drop(\"cut\", axis = 1 , inplace = True)\n",
    "# Ajustamos el codificador con la variable education y la transformamos\n",
    "encoder.fit(diamonds_test[[\"cut\"]])\n",
    "diamonds_test[\"cut-encoded\"] = encoder.transform(diamonds_test[[\"cut\"]])\n",
    "diamonds_test.drop(\"cut\", axis = 1 , inplace = True)"
   ]
  },
  {
   "cell_type": "code",
   "execution_count": 6,
   "metadata": {},
   "outputs": [],
   "source": [
    "# Creamos el codificador indicandole el orden de la variables de Clarity\n",
    "encoder = OrdinalEncoder(categories=[['VS2', 'SI1', 'SI2', 'VS1', 'IF', 'VVS1', 'VVS2', 'I1']])\n",
    "# Ajustamos el codificador con la variable education y la transformamos\n",
    "encoder.fit(diamonds_train[[\"clarity\"]])\n",
    "diamonds_train[\"clarity-encoded\"] = encoder.transform(diamonds_train[[\"clarity\"]])\n",
    "diamonds_train.drop(\"clarity\", axis = 1 , inplace = True)\n",
    "# Ajustamos el codificador con la variable education y la transformamos\n",
    "encoder.fit(diamonds_test[[\"clarity\"]])\n",
    "diamonds_test[\"clarity-encoded\"] = encoder.transform(diamonds_test[[\"clarity\"]])\n",
    "diamonds_test.drop(\"clarity\", axis = 1 , inplace = True)"
   ]
  },
  {
   "cell_type": "code",
   "execution_count": 7,
   "metadata": {},
   "outputs": [],
   "source": [
    "#Definimos la columna target y configuramos las features del dataset: categóricas o numéricas\n",
    "\n",
    "target = \"price\"\n",
    "features = ['depth', 'carat', 'table', 'x', 'y', 'z', 'color-encoded', 'cut-encoded', 'clarity-encoded']"
   ]
  },
  {
   "cell_type": "code",
   "execution_count": 8,
   "metadata": {},
   "outputs": [],
   "source": [
    "# Scaler a train db\n",
    "\n",
    "scaler = RobustScaler()\n",
    "x =scaler.fit_transform(diamonds_train[features])\n",
    "y = diamonds_train[target]\n",
    "\n"
   ]
  },
  {
   "cell_type": "code",
   "execution_count": 9,
   "metadata": {},
   "outputs": [],
   "source": [
    "#divido el dataset en 80/20 para poder realizar testing\n",
    "X_train, X_validation, y_train, y_validation=train_test_split(x, y, test_size=0.2, random_state=42)\n"
   ]
  },
  {
   "cell_type": "code",
   "execution_count": 10,
   "metadata": {},
   "outputs": [],
   "source": [
    "model1 = LinearRegression()\n",
    "model2 = RandomForestRegressor(random_state=42)\n",
    "\n",
    "\n",
    "# Entrenamos el modelo con en el dataset de train\n",
    "model2.fit(X_train,y_train)\n",
    "\n",
    "y_pred_train = model2.predict(X_validation)"
   ]
  },
  {
   "cell_type": "code",
   "execution_count": 11,
   "metadata": {},
   "outputs": [
    {
     "name": "stdout",
     "output_type": "stream",
     "text": [
      "551.1019282650497\n"
     ]
    }
   ],
   "source": [
    "##Sacar RMS de tu modelo de train bd\n",
    "\n",
    "RMSE_ERROR_sklearn = mean_squared_error(y_validation, y_pred_train, squared = False)\n",
    "print(RMSE_ERROR_sklearn)"
   ]
  },
  {
   "cell_type": "code",
   "execution_count": 12,
   "metadata": {},
   "outputs": [],
   "source": [
    "# Scaler a Test db\n",
    "\n",
    "scaler = RobustScaler()\n",
    "scaler_test =scaler.fit_transform(diamonds_test[features])\n"
   ]
  },
  {
   "cell_type": "code",
   "execution_count": 13,
   "metadata": {},
   "outputs": [],
   "source": [
    "y_pred_test = model2.predict(scaler_test).clip(0,30000)\n"
   ]
  },
  {
   "cell_type": "code",
   "execution_count": 14,
   "metadata": {},
   "outputs": [
    {
     "data": {
      "text/html": [
       "<div>\n",
       "<style scoped>\n",
       "    .dataframe tbody tr th:only-of-type {\n",
       "        vertical-align: middle;\n",
       "    }\n",
       "\n",
       "    .dataframe tbody tr th {\n",
       "        vertical-align: top;\n",
       "    }\n",
       "\n",
       "    .dataframe thead th {\n",
       "        text-align: right;\n",
       "    }\n",
       "</style>\n",
       "<table border=\"1\" class=\"dataframe\">\n",
       "  <thead>\n",
       "    <tr style=\"text-align: right;\">\n",
       "      <th></th>\n",
       "      <th>id</th>\n",
       "      <th>price</th>\n",
       "    </tr>\n",
       "  </thead>\n",
       "  <tbody>\n",
       "    <tr>\n",
       "      <th>0</th>\n",
       "      <td>0</td>\n",
       "      <td>2881.62</td>\n",
       "    </tr>\n",
       "    <tr>\n",
       "      <th>1</th>\n",
       "      <td>1</td>\n",
       "      <td>5355.66</td>\n",
       "    </tr>\n",
       "    <tr>\n",
       "      <th>2</th>\n",
       "      <td>2</td>\n",
       "      <td>9589.35</td>\n",
       "    </tr>\n",
       "    <tr>\n",
       "      <th>3</th>\n",
       "      <td>3</td>\n",
       "      <td>4173.35</td>\n",
       "    </tr>\n",
       "    <tr>\n",
       "      <th>4</th>\n",
       "      <td>4</td>\n",
       "      <td>1680.62</td>\n",
       "    </tr>\n",
       "  </tbody>\n",
       "</table>\n",
       "</div>"
      ],
      "text/plain": [
       "   id    price\n",
       "0   0  2881.62\n",
       "1   1  5355.66\n",
       "2   2  9589.35\n",
       "3   3  4173.35\n",
       "4   4  1680.62"
      ]
     },
     "execution_count": 14,
     "metadata": {},
     "output_type": "execute_result"
    }
   ],
   "source": [
    "submission_test =pd.DataFrame({'id': diamonds_test['id'],'price': y_pred_test})\n",
    "\n",
    "submission_test.head()"
   ]
  },
  {
   "cell_type": "code",
   "execution_count": 15,
   "metadata": {},
   "outputs": [],
   "source": [
    "submission_test.to_csv('submission_test_randomforest11.csv', index =False)"
   ]
  },
  {
   "cell_type": "code",
   "execution_count": null,
   "metadata": {},
   "outputs": [],
   "source": []
  }
 ],
 "metadata": {
  "interpreter": {
   "hash": "56a449b4b6c3a217288f974e7779502090f26a1e424eb525f35a32165e90487c"
  },
  "kernelspec": {
   "display_name": "Python 3.7.11 ('ironhack')",
   "language": "python",
   "name": "python3"
  },
  "language_info": {
   "codemirror_mode": {
    "name": "ipython",
    "version": 3
   },
   "file_extension": ".py",
   "mimetype": "text/x-python",
   "name": "python",
   "nbconvert_exporter": "python",
   "pygments_lexer": "ipython3",
   "version": "3.7.11"
  },
  "orig_nbformat": 4
 },
 "nbformat": 4,
 "nbformat_minor": 2
}
